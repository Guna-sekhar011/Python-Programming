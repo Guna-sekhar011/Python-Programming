{
 "cells": [
  {
   "cell_type": "code",
   "execution_count": 4,
   "id": "3992ab6f",
   "metadata": {},
   "outputs": [
    {
     "name": "stdout",
     "output_type": "stream",
     "text": [
      "23 23\n",
      "46\n"
     ]
    }
   ],
   "source": [
    "\"\"\" Input: 3 23\n",
    "Output: 26\"\"\"\n",
    "\n",
    "n=input().split()\n",
    "Sum=0\n",
    "for i in range(len(n)):\n",
    "    Sum +=  int(n[i])\n",
    "print(Sum)"
   ]
  },
  {
   "cell_type": "code",
   "execution_count": 8,
   "id": "479daa03",
   "metadata": {},
   "outputs": [
    {
     "name": "stdout",
     "output_type": "stream",
     "text": [
      "4\n",
      "*      *\n",
      "**    **\n",
      "***  ***\n",
      "********\n",
      "***  ***\n",
      "**    **\n",
      "*      *\n"
     ]
    }
   ],
   "source": [
    "#butterfly code\n",
    "\n",
    "N= int(input())\n",
    "\n",
    "for i in range(1,2*N):\n",
    "    if i <=N:\n",
    "        spaces=2*N-2*i\n",
    "        stars=i\n",
    "    else:\n",
    "        spaces = 2*i-2*N\n",
    "        stars=2*N-i\n",
    "    print(\"*\"*stars+\" \"*spaces+\"*\"*stars)"
   ]
  },
  {
   "cell_type": "code",
   "execution_count": 7,
   "id": "8a5653e4",
   "metadata": {},
   "outputs": [
    {
     "name": "stdout",
     "output_type": "stream",
     "text": [
      "4\n",
      "1\n",
      "23\n",
      "456\n",
      "78910\n"
     ]
    }
   ],
   "source": [
    "#Pattern\n",
    "\n",
    "n=int(input())\n",
    "count=1\n",
    "for i in range(1,n+1):\n",
    "    for j in range(i):\n",
    "        print(count,end=\"\")\n",
    "        count+=1\n",
    "    print()\n"
   ]
  },
  {
   "cell_type": "code",
   "execution_count": 15,
   "id": "7c361047",
   "metadata": {},
   "outputs": [
    {
     "name": "stdout",
     "output_type": "stream",
     "text": [
      "yes no number\n",
      "The longest string is: number\n"
     ]
    }
   ],
   "source": [
    "#Rohan longest string\n",
    "\n",
    "st=input().split()\n",
    "m=\"\"\n",
    "for i in range(len(st)):\n",
    "    if len(st[i])>len(m):\n",
    "        m=st[i]\n",
    "print(\"The longest string is:\",m)\n",
    "    "
   ]
  },
  {
   "cell_type": "code",
   "execution_count": 3,
   "id": "3cede2fb",
   "metadata": {},
   "outputs": [
    {
     "name": "stdout",
     "output_type": "stream",
     "text": [
      "4\n",
      "28\n"
     ]
    }
   ],
   "source": [
    "#dog age\n",
    "N=int(input())\n",
    "print(N*7)"
   ]
  },
  {
   "cell_type": "code",
   "execution_count": 12,
   "id": "ff567e5a",
   "metadata": {},
   "outputs": [
    {
     "name": "stdout",
     "output_type": "stream",
     "text": [
      "hello, world!\n",
      "1\n"
     ]
    }
   ],
   "source": [
    "#space\n",
    "\n",
    "st=input()\n",
    "count=0\n",
    "for i in st:\n",
    "    if i.isspace():\n",
    "        count+=1\n",
    "print(count)"
   ]
  },
  {
   "cell_type": "code",
   "execution_count": 11,
   "id": "9d9391ea",
   "metadata": {},
   "outputs": [
    {
     "name": "stdout",
     "output_type": "stream",
     "text": [
      "34\n",
      "916\n"
     ]
    }
   ],
   "source": [
    "#encoding number\n",
    "\n",
    "num=input()\n",
    "res=\"\"\n",
    "for i in num:\n",
    "    res+=str(int(i)**2)\n",
    "print(res)"
   ]
  },
  {
   "cell_type": "code",
   "execution_count": null,
   "id": "8b239a33",
   "metadata": {},
   "outputs": [],
   "source": [
    "#store water"
   ]
  },
  {
   "cell_type": "code",
   "execution_count": null,
   "id": "3573636a",
   "metadata": {},
   "outputs": [],
   "source": [
    "def is_leap_year(year):\n",
    "    \"\"\"Determine whether a given year is a leap year.\"\"\"\n",
    "    if (year % 4 == 0 and year % 100 != 0) or (year % 400 == 0):\n",
    "        return True\n",
    "    return False\n",
    "\n",
    "def nearest_leap_year(year):\n",
    "    \"\"\"Find the nearest leap year to the given year.\"\"\"\n",
    "    # Check if the given year is a leap year\n",
    "    if is_leap_year(year):\n",
    "        return year\n",
    "    \n",
    "    # Initialize the previous and next leap years\n",
    "    prev_leap_year = year\n",
    "    next_leap_year = year\n",
    "    \n",
    "    # Find the closest leap year before the given year\n",
    "    while not is_leap_year(prev_leap_year):\n",
    "        prev_leap_year -= 1\n",
    "    \n",
    "    # Find the closest leap year after the given year\n",
    "    while not is_leap_year(next_leap_year):\n",
    "        next_leap_year += 1\n",
    "    \n",
    "    # Determine which leap year is closer to the given year\n",
    "    if (year - prev_leap_year) <= (next_leap_year - year):\n",
    "        return prev_leap_year\n",
    "    else:\n",
    "        return next_leap_year\n",
    "\n",
    "def main():\n",
    "    # Ask the user for input\n",
    "    year = int(input(\"Enter a year: \"))\n",
    "    \n",
    "    # Find the nearest leap year\n",
    "    nearest_leap = nearest_leap_year(year)\n",
    "    \n",
    "    # Print the nearest leap year\n",
    "    print(f\"The nearest leap year to {year} is {nearest_leap}\")\n",
    "\n",
    "# Run the main function\n",
    "if __name__ == \"__main__\":\n",
    "    main()\n"
   ]
  },
  {
   "cell_type": "code",
   "execution_count": 5,
   "id": "cbe142cd",
   "metadata": {},
   "outputs": [
    {
     "name": "stdout",
     "output_type": "stream",
     "text": [
      "5\n",
      "10\n",
      "785\n"
     ]
    }
   ],
   "source": [
    "r=int(input())\n",
    "h=int(input())\n",
    "print(round(3.14*r*r*h))"
   ]
  },
  {
   "cell_type": "code",
   "execution_count": 9,
   "id": "af3160ec",
   "metadata": {},
   "outputs": [
    {
     "name": "stdout",
     "output_type": "stream",
     "text": [
      "100067\n"
     ]
    },
    {
     "ename": "ValueError",
     "evalue": "invalid literal for int() with base 10: ''",
     "output_type": "error",
     "traceback": [
      "\u001b[1;31m---------------------------------------------------------------------------\u001b[0m",
      "\u001b[1;31mValueError\u001b[0m                                Traceback (most recent call last)",
      "Cell \u001b[1;32mIn[9], line 2\u001b[0m\n\u001b[0;32m      1\u001b[0m num\u001b[38;5;241m=\u001b[39m\u001b[38;5;28minput\u001b[39m()\n\u001b[1;32m----> 2\u001b[0m res\u001b[38;5;241m=\u001b[39m\u001b[38;5;28mint\u001b[39m(\u001b[38;5;124m\"\u001b[39m\u001b[38;5;124m\"\u001b[39m)\n\u001b[0;32m      3\u001b[0m \u001b[38;5;28;01mfor\u001b[39;00m i \u001b[38;5;129;01min\u001b[39;00m num:\n\u001b[0;32m      4\u001b[0m     \u001b[38;5;28;01mif\u001b[39;00m i\u001b[38;5;241m==\u001b[39m\u001b[38;5;124m\"\u001b[39m\u001b[38;5;124m0\u001b[39m\u001b[38;5;124m\"\u001b[39m:\n",
      "\u001b[1;31mValueError\u001b[0m: invalid literal for int() with base 10: ''"
     ]
    }
   ],
   "source": [
    "num=input()\n",
    "res=\"\"\n",
    "for i in num:\n",
    "    if i==\"0\":\n",
    "        res+=\"5\"\n",
    "    else:\n",
    "        res+=i\n",
    "print(int(res))"
   ]
  },
  {
   "cell_type": "code",
   "execution_count": 18,
   "id": "9d0952ad",
   "metadata": {},
   "outputs": [
    {
     "name": "stdout",
     "output_type": "stream",
     "text": [
      "3\n",
      "____________________\n",
      "|     3  *  1   =  3     |\n",
      "|     3  *  2   =  6     |\n",
      "|     3  *  3   =  9     |\n",
      "|     3  *  4   =  12     |\n",
      "|     3  *  5   =  15     |\n",
      "|     3  *  6   =  18     |\n",
      "|     3  *  7   =  21     |\n",
      "|     3  *  8   =  24     |\n",
      "|     3  *  9   =  27     |\n",
      "|     3  *  10   =  30     |\n",
      "|     3  *  11   =  33     |\n",
      "|     3  *  12   =  36     |\n",
      "|     3  *  13   =  39     |\n",
      "|     3  *  14   =  42     |\n",
      "|     3  *  15   =  45     |\n",
      "|     3  *  16   =  48     |\n",
      "|     3  *  17   =  51     |\n",
      "|     3  *  18   =  54     |\n",
      "|     3  *  19   =  57     |\n",
      "|     3  *  20   =  60     |\n",
      "____________________\n"
     ]
    }
   ],
   "source": [
    "n=int(input())\n",
    "print(\"____________________\")\n",
    "for i in range(1,21):\n",
    "        print(\"|    \",n ,\" * \", i,\"  = \",n*i,\"    |\")\n",
    "print(\"____________________\")"
   ]
  },
  {
   "cell_type": "code",
   "execution_count": null,
   "id": "5a06d34b",
   "metadata": {},
   "outputs": [],
   "source": []
  },
  {
   "cell_type": "code",
   "execution_count": null,
   "id": "a7260d67",
   "metadata": {},
   "outputs": [],
   "source": []
  },
  {
   "cell_type": "code",
   "execution_count": null,
   "id": "c01f14a2",
   "metadata": {},
   "outputs": [],
   "source": []
  },
  {
   "cell_type": "code",
   "execution_count": 3,
   "id": "14fe43a4",
   "metadata": {},
   "outputs": [
    {
     "name": "stdout",
     "output_type": "stream",
     "text": [
      "3\n",
      "\n",
      "*\n",
      "**\n",
      "***\n"
     ]
    }
   ],
   "source": [
    "n=int(input())\n",
    "for i in range(n+1):\n",
    "    print(\"* \"*i)"
   ]
  },
  {
   "cell_type": "code",
   "execution_count": 1,
   "id": "314fc159",
   "metadata": {},
   "outputs": [
    {
     "name": "stdout",
     "output_type": "stream",
     "text": [
      "ABCabcXYZ\n",
      "ABCABCXYZ\n"
     ]
    }
   ],
   "source": [
    "STR=input()\n",
    "uc=0\n",
    "lc=0\n",
    "for i in STR:\n",
    "    if i.isupper():\n",
    "        uc+=1\n",
    "    else:\n",
    "        lc+=1\n",
    "if(uc>lc):\n",
    "    print(STR.upper())\n",
    "else:\n",
    "    print(STR.lower())"
   ]
  },
  {
   "cell_type": "code",
   "execution_count": 4,
   "id": "9d2e5337",
   "metadata": {},
   "outputs": [
    {
     "name": "stdout",
     "output_type": "stream",
     "text": [
      "7\n",
      "3\n",
      "4 5 3 1 7 2 6\n",
      "4\n"
     ]
    }
   ],
   "source": [
    "def solution(N, K, candles):\n",
    "    from collections import defaultdict\n",
    "    \n",
    "    \n",
    "    count = defaultdict(int)\n",
    "    \n",
    "    required = set(range(1, K+1))\n",
    "    current_count = 0\n",
    "    min_length = float('inf')\n",
    "    min_window = (-1, -1)\n",
    "    \n",
    "    left = 0\n",
    "    \n",
    "    for right in range(N):\n",
    "        \n",
    "        if candles[right] in required:\n",
    "            if count[candles[right]] == 0:\n",
    "                current_count += 1\n",
    "            count[candles[right]] += 1\n",
    "        \n",
    "        \n",
    "        while current_count == K and left <= right:\n",
    "            \n",
    "            if right - left + 1 < min_length:\n",
    "                min_length = right - left + 1\n",
    "                min_window = (left, right)\n",
    "            \n",
    "            \n",
    "            if candles[left] in required:\n",
    "                count[candles[left]] -= 1  \n",
    "                if count[candles[left]] == 0:\n",
    "                    current_count -= 1\n",
    "            left += 1\n",
    "    \n",
    "    return min_length\n",
    "\n",
    "N = int(input())\n",
    "K = int(input())\n",
    "c = list(map(int, input().split()))\n",
    "print(solution(N, K, c))  \n"
   ]
  },
  {
   "cell_type": "code",
   "execution_count": 6,
   "id": "a6ae1ed3",
   "metadata": {},
   "outputs": [
    {
     "name": "stdout",
     "output_type": "stream",
     "text": [
      "4\n",
      "6\n"
     ]
    }
   ],
   "source": [
    "def solve(N):\n",
    "    N = abs(N)  \n",
    "    k = 0\n",
    "    total_sum = 0\n",
    "    \n",
    "    \n",
    "    while total_sum < N or (total_sum - N) % 2 != 0:\n",
    "        k += 1\n",
    "        total_sum += k\n",
    "    \n",
    "    return total_sum\n",
    "\n",
    "N = int(input())\n",
    "print(solve(N))  \n"
   ]
  },
  {
   "cell_type": "code",
   "execution_count": null,
   "id": "2e467ff2",
   "metadata": {},
   "outputs": [],
   "source": []
  },
  {
   "cell_type": "code",
   "execution_count": null,
   "id": "fe5a3148",
   "metadata": {},
   "outputs": [],
   "source": []
  }
 ],
 "metadata": {
  "kernelspec": {
   "display_name": "Python 3 (ipykernel)",
   "language": "python",
   "name": "python3"
  },
  "language_info": {
   "codemirror_mode": {
    "name": "ipython",
    "version": 3
   },
   "file_extension": ".py",
   "mimetype": "text/x-python",
   "name": "python",
   "nbconvert_exporter": "python",
   "pygments_lexer": "ipython3",
   "version": "3.11.3"
  }
 },
 "nbformat": 4,
 "nbformat_minor": 5
}
