{
 "cells": [
  {
   "cell_type": "code",
   "execution_count": 6,
   "id": "678fd5a8",
   "metadata": {},
   "outputs": [
    {
     "name": "stdout",
     "output_type": "stream",
     "text": [
      "Runs scored: 1\n",
      "Balls faced: 3\n",
      "33.33\n"
     ]
    }
   ],
   "source": [
    "#strike Rate\n",
    "\n",
    "Run_Scored=int(input(\"Runs scored: \"))\n",
    "Balls_Faced=int(input(\"Balls faced: \"))\n",
    "Strike_Rate= (Run_Scored/Balls_Faced)*100\n",
    "print(\"%.2f\"%Strike_Rate)"
   ]
  },
  {
   "cell_type": "code",
   "execution_count": 13,
   "id": "14edcac1",
   "metadata": {},
   "outputs": [
    {
     "name": "stdout",
     "output_type": "stream",
     "text": [
      "runs scored: 2112\n",
      "overs faced: 208\n",
      "runs conceded: 2134\n",
      "overs bowled: 208.6\n",
      "-0.076\n"
     ]
    }
   ],
   "source": [
    "#Net run rate\n",
    "\n",
    "runs_scored = int(input(\"runs scored: \"))\n",
    "overs_faced = float(input(\"overs faced: \"))\n",
    "\n",
    "runs_conceded = int(input(\"runs conceded: \"))\n",
    "overs_bowled = float(input(\"overs bowled: \"))\n",
    "\n",
    "net_run_rate = (runs_scored/overs_faced) - (runs_conceded/overs_bowled)\n",
    "\n",
    "print(\"%.3f\"%net_run_rate)"
   ]
  },
  {
   "cell_type": "code",
   "execution_count": null,
   "id": "fc91d42a",
   "metadata": {},
   "outputs": [],
   "source": []
  }
 ],
 "metadata": {
  "kernelspec": {
   "display_name": "Python 3 (ipykernel)",
   "language": "python",
   "name": "python3"
  },
  "language_info": {
   "codemirror_mode": {
    "name": "ipython",
    "version": 3
   },
   "file_extension": ".py",
   "mimetype": "text/x-python",
   "name": "python",
   "nbconvert_exporter": "python",
   "pygments_lexer": "ipython3",
   "version": "3.11.3"
  }
 },
 "nbformat": 4,
 "nbformat_minor": 5
}
